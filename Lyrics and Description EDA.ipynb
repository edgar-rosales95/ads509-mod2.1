{
 "cells": [
  {
   "cell_type": "markdown",
   "id": "7f79baf9",
   "metadata": {},
   "source": [
    "# ADS 509 Assignment 2.1: Tokenization, Normalization, Descriptive Statistics \n",
    "\n",
    "This notebook holds Assignment 2.1 for Module 2 in ADS 509, Applied Text Mining. Work through this notebook, writing code and answering questions where required. \n",
    "\n",
    "In the previous assignment you pulled lyrics data on two artists. In this assignment we explore this data set and a pull from the now-defunct Twitter API for the artists Cher and Robyn.  If, for some reason, you did not complete that previous assignment, data to use for this assignment can be found in the assignment materials section of Canvas. \n",
    "\n",
    "This assignment asks you to write a short function to calculate some descriptive statistics on a piece of text. Then you are asked to find some interesting and unique statistics on your corpora. \n"
   ]
  },
  {
   "cell_type": "markdown",
   "id": "aae8e2e1",
   "metadata": {},
   "source": [
    "## General Assignment Instructions\n",
    "\n",
    "These instructions are included in every assignment, to remind you of the coding standards for the class. Feel free to delete this cell after reading it. \n",
    "\n",
    "One sign of mature code is conforming to a style guide. We recommend the [Google Python Style Guide](https://google.github.io/styleguide/pyguide.html). If you use a different style guide, please include a cell with a link. \n",
    "\n",
    "Your code should be relatively easy-to-read, sensibly commented, and clean. Writing code is a messy process, so please be sure to edit your final submission. Remove any cells that are not needed or parts of cells that contain unnecessary code. Remove inessential `import` statements and make sure that all such statements are moved into the designated cell. \n",
    "\n",
    "Make use of non-code cells for written commentary. These cells should be grammatical and clearly written. In some of these cells you will have questions to answer. The questions will be marked by a \"Q:\" and will have a corresponding \"A:\" spot for you. *Make sure to answer every question marked with a `Q:` for full credit.* \n"
   ]
  },
  {
   "cell_type": "code",
   "execution_count": 1,
   "id": "e2d096b7",
   "metadata": {},
   "outputs": [],
   "source": [
    "import os\n",
    "import re\n",
    "import emoji\n",
    "import pandas as pd\n",
    "import numpy as np\n",
    "\n",
    "from collections import Counter, defaultdict\n",
    "from nltk.corpus import stopwords\n",
    "from string import punctuation\n",
    "\n",
    "sw = stopwords.words(\"english\")"
   ]
  },
  {
   "cell_type": "code",
   "execution_count": 26,
   "id": "6b555ab2",
   "metadata": {},
   "outputs": [
    {
     "name": "stderr",
     "output_type": "stream",
     "text": [
      "Matplotlib is building the font cache; this may take a moment.\n"
     ]
    }
   ],
   "source": [
    "# Add any additional import statements you need here\n",
    "\n",
    "#!pip install matplotlib\n",
    "import matplotlib.pyplot as plt\n",
    "import string\n",
    "\n"
   ]
  },
  {
   "cell_type": "code",
   "execution_count": 2,
   "id": "923b5a86",
   "metadata": {},
   "outputs": [],
   "source": [
    "# change `data_location` to the location of the folder on your machine.\n",
    "data_location = \"'/Users/edgarrosales/Desktop/UniversitySandiego/MastersProgram/programA/ADS509/ads509-mod2.1/M1 Results'\"\n",
    "\n",
    "# These subfolders should still work if you correctly stored the \n",
    "# data from the Module 1 assignment\n",
    "twitter_folder = \"twitter/\"\n",
    "lyrics_folder = \"lyrics/\""
   ]
  },
  {
   "cell_type": "code",
   "execution_count": 3,
   "id": "06522af9",
   "metadata": {},
   "outputs": [],
   "source": [
    "def descriptive_stats(tokens, num_tokens = 5, verbose=True) :\n",
    "    \"\"\"\n",
    "        Given a list of tokens, print number of tokens, number of unique tokens, \n",
    "        number of characters, lexical diversity (https://en.wikipedia.org/wiki/Lexical_diversity), \n",
    "        and num_tokens most common tokens. Return a list with the number of tokens, number\n",
    "        of unique tokens, lexical diversity, and number of characters. \n",
    "    \n",
    "    \"\"\"\n",
    "\n",
    "    # Fill in the correct values here. \n",
    "    num_tokens = len(tokens)\n",
    "    num_unique_tokens = len(set(tokens))\n",
    "    num_characters = sum(len(token) for token in tokens)\n",
    "    lexical_diversity = num_unique_tokens / num_tokens if num_tokens > 0 else 0\n",
    "    \n",
    "    \n",
    "    if verbose :        \n",
    "        print(f\"There are {num_tokens} tokens in the data.\")\n",
    "        print(f\"There are {num_unique_tokens} unique tokens in the data.\")\n",
    "        print(f\"There are {num_characters} characters in the data.\")\n",
    "        print(f\"The lexical diversity is {lexical_diversity:.3f} in the data.\")\n",
    "    \n",
    "        # print the five most common tokens\n",
    "        \n",
    "    return([num_tokens, num_unique_tokens,\n",
    "            lexical_diversity,\n",
    "            num_characters])\n",
    "    "
   ]
  },
  {
   "cell_type": "code",
   "execution_count": 4,
   "id": "59dcf058",
   "metadata": {},
   "outputs": [
    {
     "name": "stdout",
     "output_type": "stream",
     "text": [
      "There are 13 tokens in the data.\n",
      "There are 9 unique tokens in the data.\n",
      "There are 55 characters in the data.\n",
      "The lexical diversity is 0.692 in the data.\n"
     ]
    }
   ],
   "source": [
    "text = \"\"\"here is some example text with other example text here in this text\"\"\".split()\n",
    "assert(descriptive_stats(text, verbose=True)[0] == 13)\n",
    "assert(descriptive_stats(text, verbose=False)[1] == 9)\n",
    "assert(abs(descriptive_stats(text, verbose=False)[2] - 0.69) < 0.02)\n",
    "assert(descriptive_stats(text, verbose=False)[3] == 55)\n"
   ]
  },
  {
   "cell_type": "markdown",
   "id": "d2e7e1a2",
   "metadata": {},
   "source": [
    "Q: Why is it beneficial to use assertion statements in your code? \n",
    "\n",
    "A: Using assertion statements helps catch errors early by verifying assumptions in your code. They improve code reliability, make debugging easier, and act as built-in checks to prevent silent failures. "
   ]
  },
  {
   "cell_type": "markdown",
   "id": "9d3bf93e",
   "metadata": {},
   "source": [
    "## Data Input\n",
    "\n",
    "Now read in each of the corpora. For the lyrics data, it may be convenient to store the entire contents of the file to make it easier to inspect the titles individually, as you'll do in the last part of the assignment. In the solution, I stored the lyrics data in a dictionary with two dimensions of keys: artist and song. The value was the file contents. A data frame would work equally well. \n",
    "\n",
    "For the Twitter data, we only need the description field for this assignment. Feel free all the descriptions read it into a data structure. In the solution, I stored the descriptions as a dictionary of lists, with the key being the artist. \n",
    "\n",
    "\n"
   ]
  },
  {
   "cell_type": "code",
   "execution_count": 7,
   "id": "37d70801",
   "metadata": {},
   "outputs": [],
   "source": [
    "data_location = \"/Users/edgarrosales/Desktop/UniversitySandiego/MastersProgram/programA/ADS509/ads509-mod2.1/M1 Results\"\n",
    "lyrics_dir = os.path.join(data_location, \"lyrics\")\n",
    "\n",
    "all_lyrics = []\n",
    "\n",
    "for artist_folder in os.listdir(lyrics_dir):\n",
    "    artist_path = os.path.join(lyrics_dir, artist_folder)\n",
    "    if os.path.isdir(artist_path):\n",
    "        for file in os.listdir(artist_path):\n",
    "            file_path = os.path.join(artist_path, file)\n",
    "            with open(file_path, \"r\", encoding=\"utf-8\") as f:\n",
    "                all_lyrics.extend(f.read().split())\n"
   ]
  },
  {
   "cell_type": "code",
   "execution_count": 11,
   "id": "debcac5a",
   "metadata": {},
   "outputs": [],
   "source": [
    "twitter_folder = os.path.join(data_location, \"twitter\")\n",
    "txt_files = [f for f in os.listdir(twitter_folder) if f.endswith(\".txt\")]\n",
    "\n",
    "first_txt_file = os.path.join(twitter_folder, txt_files[0])\n",
    "\n",
    "with open(first_txt_file, \"r\", encoding=\"utf-8\") as f:\n",
    "    twitter_data = f.read().split()\n"
   ]
  },
  {
   "cell_type": "markdown",
   "id": "6a5f3b12",
   "metadata": {},
   "source": [
    "## Data Cleaning\n",
    "\n",
    "Now clean and tokenize your data. Remove punctuation chacters (available in the `punctuation` object in the `string` library), split on whitespace, fold to lowercase, and remove stopwords. Store your cleaned data, which must be accessible as an interable for `descriptive_stats`, in new objects or in new columns in your data frame. \n",
    "\n"
   ]
  },
  {
   "cell_type": "code",
   "execution_count": null,
   "id": "71c73d86",
   "metadata": {},
   "outputs": [],
   "source": [
    "punctuation = set(punctuation) # speeds up comparison"
   ]
  },
  {
   "cell_type": "code",
   "execution_count": 13,
   "id": "b327033a",
   "metadata": {},
   "outputs": [],
   "source": [
    "# create your clean twitter data here\n",
    "\n",
    "# Setup\n",
    "punctuation = set(string.punctuation)\n",
    "stop_words = set(stopwords.words(\"english\"))\n",
    "\n",
    "# Clean twitter data\n",
    "clean_twitter = []\n",
    "\n",
    "for word in twitter_data:\n",
    "    # remove punctuation from each word\n",
    "    word = ''.join(char for char in word if char not in punctuation)\n",
    "    \n",
    "    # lowercase and check if it's not a stopword and not empty\n",
    "    word = word.lower()\n",
    "    \n",
    "    if word and word not in stop_words:\n",
    "        clean_twitter.append(word)\n"
   ]
  },
  {
   "cell_type": "code",
   "execution_count": 14,
   "id": "e0f22e10",
   "metadata": {},
   "outputs": [],
   "source": [
    "# create your clean lyrics data here\n",
    "\n",
    "# Clean lyrics data\n",
    "clean_lyrics = []\n",
    "\n",
    "for word in all_lyrics:\n",
    "    # remove punctuation\n",
    "    word = ''.join(char for char in word if char not in punctuation)\n",
    "    \n",
    "    # lowercase\n",
    "    word = word.lower()\n",
    "    \n",
    "    # remove stopwords and empty strings\n",
    "    if word and word not in stop_words:\n",
    "        clean_lyrics.append(word)\n"
   ]
  },
  {
   "cell_type": "markdown",
   "id": "f2dd0179",
   "metadata": {},
   "source": [
    "## Basic Descriptive Statistics\n",
    "\n",
    "Call your `descriptive_stats` function on both your lyrics data and your twitter data and for both artists (four total calls). "
   ]
  },
  {
   "cell_type": "code",
   "execution_count": 17,
   "id": "f0bbedd9",
   "metadata": {},
   "outputs": [
    {
     "name": "stdout",
     "output_type": "stream",
     "text": [
      "Lyrics Descriptive Stats:\n",
      "There are 51143 tokens in the data.\n",
      "There are 4664 unique tokens in the data.\n",
      "There are 246421 characters in the data.\n",
      "The lexical diversity is 0.091 in the data.\n",
      "\n",
      "Twitter Descriptive Stats:\n",
      "There are 42404149 tokens in the data.\n",
      "There are 10667109 unique tokens in the data.\n",
      "There are 266424726 characters in the data.\n",
      "The lexical diversity is 0.252 in the data.\n"
     ]
    },
    {
     "data": {
      "text/plain": [
       "[42404149, 10667109, 0.2515581435203428, 266424726]"
      ]
     },
     "execution_count": 17,
     "metadata": {},
     "output_type": "execute_result"
    }
   ],
   "source": [
    "# descriptive_stats here\n",
    "\n",
    "print(\"Lyrics Descriptive Stats:\")\n",
    "descriptive_stats(clean_lyrics)\n",
    "\n",
    "print(\"\\nTwitter Descriptive Stats:\")\n",
    "descriptive_stats(clean_twitter)\n",
    "\n",
    "\n"
   ]
  },
  {
   "cell_type": "markdown",
   "id": "46294409",
   "metadata": {},
   "source": [
    "Q: How do you think the \"top 5 words\" would be different if we left stopwords in the data? \n",
    "\n",
    "A: The top 5 words would be common filler word like \"the\", \"and\" and \"to\"\n",
    "\n",
    "---\n",
    "\n",
    "Q: What were your prior beliefs about the lexical diversity between the artists? Does the difference (or lack thereof) in lexical diversity between the artists conform to your prior beliefs? \n",
    "\n",
    "A: Expected lyrics to be more diverse than tweets due to richer language in songs.\n",
    "\n",
    "\n"
   ]
  },
  {
   "cell_type": "markdown",
   "id": "4d4e1ac1",
   "metadata": {},
   "source": [
    "\n",
    "## Specialty Statistics\n",
    "\n",
    "The descriptive statistics we have calculated are quite generic. You will now calculate a handful of statistics tailored to these data.\n",
    "\n",
    "1. Ten most common emojis by artist in the twitter descriptions.\n",
    "1. Ten most common hashtags by artist in the twitter descriptions.\n",
    "1. Five most common words in song titles by artist. \n",
    "1. For each artist, a histogram of song lengths (in terms of number of tokens) \n",
    "\n",
    "We can use the `emoji` library to help us identify emojis and you have been given a function to help you.\n"
   ]
  },
  {
   "cell_type": "code",
   "execution_count": 18,
   "id": "753a5a3e",
   "metadata": {},
   "outputs": [],
   "source": [
    "assert(emoji.is_emoji(\"❤️\"))\n",
    "assert(not emoji.is_emoji(\":-)\"))"
   ]
  },
  {
   "cell_type": "markdown",
   "id": "986fc4c0",
   "metadata": {},
   "source": [
    "### Emojis 😁\n",
    "\n",
    "What are the ten most common emojis by artist in the twitter descriptions? \n",
    "\n"
   ]
  },
  {
   "cell_type": "code",
   "execution_count": 19,
   "id": "269cd433",
   "metadata": {},
   "outputs": [
    {
     "name": "stdout",
     "output_type": "stream",
     "text": [
      "Top 10 Emojis - Cher Followers:\n",
      "❤ : 94506\n",
      "🌈 : 66291\n",
      "♥ : 48059\n",
      "🏳 : 47174\n",
      "✨ : 45846\n",
      "🌊 : 31234\n",
      "💙 : 31050\n",
      "🏻 : 25195\n",
      "✌ : 21963\n",
      "💜 : 21571\n",
      "\n",
      "Top 10 Emojis - Robyn Followers:\n",
      "🌈 : 6086\n",
      "❤ : 5635\n",
      "🏳 : 4641\n",
      "♥ : 4249\n",
      "✨ : 3217\n",
      "🏻 : 1751\n",
      "✌ : 1495\n",
      "♀ : 1347\n",
      "🏼 : 1340\n",
      "💙 : 1200\n"
     ]
    }
   ],
   "source": [
    "import emoji\n",
    "\n",
    "# follower description files\n",
    "cher_file = os.path.join(data_location, \"twitter\", \"cher_followers_data.txt\")\n",
    "robyn_file = os.path.join(data_location, \"twitter\", \"robynkonichiwa_followers_data.txt\")\n",
    "\n",
    "# extract emojis from text\n",
    "def extract_emojis(text):\n",
    "    return [char for char in text if emoji.is_emoji(char)]\n",
    "\n",
    "# read files and extract emojis\n",
    "def top_emojis(file_path, top_n=10):\n",
    "    all_emojis = []\n",
    "    with open(file_path, \"r\", encoding=\"utf-8\") as f:\n",
    "        for line in f:\n",
    "            all_emojis.extend(extract_emojis(line))\n",
    "    return Counter(all_emojis).most_common(top_n)\n",
    "\n",
    "# top 10 emojis per artist\n",
    "cher_emojis = top_emojis(cher_file)\n",
    "robyn_emojis = top_emojis(robyn_file)\n",
    "\n",
    "# results\n",
    "print(\"Top 10 Emojis - Cher Followers:\")\n",
    "for e, count in cher_emojis:\n",
    "    print(f\"{e} : {count}\")\n",
    "\n",
    "print(\"\\nTop 10 Emojis - Robyn Followers:\")\n",
    "for e, count in robyn_emojis:\n",
    "    print(f\"{e} : {count}\")\n"
   ]
  },
  {
   "cell_type": "markdown",
   "id": "bab9b770",
   "metadata": {},
   "source": [
    "### Hashtags\n",
    "\n",
    "What are the ten most common hashtags by artist in the twitter descriptions? \n"
   ]
  },
  {
   "cell_type": "code",
   "execution_count": 20,
   "id": "07c396f1",
   "metadata": {},
   "outputs": [
    {
     "name": "stdout",
     "output_type": "stream",
     "text": [
      "Top 10 Hashtags - Cher Followers:\n",
      "#resist : 9729\n",
      "#blm : 9271\n",
      "#blacklivesmatter : 7770\n",
      "#fbr : 2991\n",
      "#theresistance : 2929\n",
      "#1 : 2580\n",
      "#resistance : 2438\n",
      "#voteblue : 1939\n",
      "#lgbtq : 1461\n",
      "#music : 1315\n",
      "\n",
      "Top 10 Hashtags - Robyn Followers:\n",
      "#blacklivesmatter : 601\n",
      "#blm : 365\n",
      "#music : 262\n",
      "#1 : 213\n",
      "#teamfollowback : 118\n",
      "#edm : 104\n",
      "#resist : 77\n",
      "#freebritney : 70\n",
      "#blacktranslivesmatter : 58\n",
      "#lgbtq : 58\n"
     ]
    }
   ],
   "source": [
    "# Your code here\n",
    "# Function to extract hashtags from text\n",
    "def extract_hashtags(text):\n",
    "    words = text.split()\n",
    "    return [word.lower() for word in words if word.startswith(\"#\") and len(word) > 1]\n",
    "\n",
    "# Read files and extract hashtags\n",
    "def top_hashtags(file_path, top_n=10):\n",
    "    all_hashtags = []\n",
    "    with open(file_path, \"r\", encoding=\"utf-8\") as f:\n",
    "        for line in f:\n",
    "            all_hashtags.extend(extract_hashtags(line))\n",
    "    return Counter(all_hashtags).most_common(top_n)\n",
    "\n",
    "# top 10 hashtags per artist\n",
    "cher_hashtags = top_hashtags(cher_file)\n",
    "robyn_hashtags = top_hashtags(robyn_file)\n",
    "\n",
    "# results\n",
    "print(\"Top 10 Hashtags - Cher Followers:\")\n",
    "for h, count in cher_hashtags:\n",
    "    print(f\"{h} : {count}\")\n",
    "\n",
    "print(\"\\nTop 10 Hashtags - Robyn Followers:\")\n",
    "for h, count in robyn_hashtags:\n",
    "    print(f\"{h} : {count}\")\n"
   ]
  },
  {
   "cell_type": "markdown",
   "id": "d10f21d5",
   "metadata": {},
   "source": [
    "### Song Titles\n",
    "\n",
    "What are the five most common words in song titles by artist? The song titles should be on the first line of the lyrics pages, so if you have kept the raw file contents around, you will not need to re-read the data.\n"
   ]
  },
  {
   "cell_type": "code",
   "execution_count": 22,
   "id": "bb69b36b",
   "metadata": {},
   "outputs": [
    {
     "name": "stdout",
     "output_type": "stream",
     "text": [
      "Top 5 Words in Cher Song Titles:\n",
      "love : 38\n",
      "man : 12\n",
      "song : 11\n",
      "dont : 10\n",
      "come : 7\n",
      "\n",
      "Top 5 Words in Robyn Song Titles:\n",
      "love : 6\n",
      "dont : 4\n",
      "u : 4\n",
      "hang : 3\n",
      "tell : 3\n"
     ]
    }
   ],
   "source": [
    "def extract_title_words(artist_folder):\n",
    "    title_words = []\n",
    "    for filename in os.listdir(artist_folder):\n",
    "        file_path = os.path.join(artist_folder, filename)\n",
    "        with open(file_path, \"r\", encoding=\"utf-8\") as f:\n",
    "            title_line = f.readline().strip()\n",
    "            for word in title_line.split():\n",
    "                # Clean word: remove punctuation, lowercase, filter stopwords\n",
    "                word_clean = ''.join(char for char in word if char not in punctuation).lower()\n",
    "                if word_clean and word_clean not in stop_words:\n",
    "                    title_words.append(word_clean)\n",
    "    return Counter(title_words).most_common(5)\n",
    "\n",
    "# folder paths\n",
    "cher_folder = os.path.join(data_location, \"lyrics\", \"cher\")\n",
    "robyn_folder = os.path.join(data_location, \"lyrics\", \"robyn\")\n",
    "\n",
    "# Get top 5 title words\n",
    "cher_title_counts = extract_title_words(cher_folder)\n",
    "robyn_title_counts = extract_title_words(robyn_folder)\n",
    "\n",
    "print(\"Top 5 Words in Cher Song Titles:\")\n",
    "for word, count in cher_title_counts:\n",
    "    print(f\"{word} : {count}\")\n",
    "\n",
    "print(\"\\nTop 5 Words in Robyn Song Titles:\")\n",
    "for word, count in robyn_title_counts:\n",
    "    print(f\"{word} : {count}\")\n"
   ]
  },
  {
   "cell_type": "markdown",
   "id": "5dd4fd71",
   "metadata": {},
   "source": [
    "### Song Lengths\n",
    "\n",
    "For each artist, a histogram of song lengths (in terms of number of tokens). If you put the song lengths in a data frame with an artist column, matplotlib will make the plotting quite easy. An example is given to help you out. \n"
   ]
  },
  {
   "cell_type": "code",
   "execution_count": 27,
   "id": "805a1e52",
   "metadata": {},
   "outputs": [
    {
     "data": {
      "text/plain": [
       "artist\n",
       "Artist 1    Axes(0.125,0.11;0.775x0.77)\n",
       "Artist 2    Axes(0.125,0.11;0.775x0.77)\n",
       "Name: length, dtype: object"
      ]
     },
     "execution_count": 27,
     "metadata": {},
     "output_type": "execute_result"
    },
    {
     "data": {
      "image/png": "[encoded data removed]",
      "text/plain": [
       "<Figure size 640x480 with 1 Axes>"
      ]
     },
     "metadata": {},
     "output_type": "display_data"
    }
   ],
   "source": [
    "num_replicates = 1000\n",
    "\n",
    "df = pd.DataFrame({\n",
    "    \"artist\" : ['Artist 1'] * num_replicates + ['Artist 2']*num_replicates,\n",
    "    \"length\" : np.concatenate((np.random.poisson(125,num_replicates),np.random.poisson(150,num_replicates)))\n",
    "})\n",
    "\n",
    "df.groupby('artist')['length'].plot(kind=\"hist\",density=True,alpha=0.5,legend=True)"
   ]
  },
  {
   "cell_type": "markdown",
   "id": "8fde9ebb",
   "metadata": {},
   "source": [
    "Since the lyrics may be stored with carriage returns or tabs, it may be useful to have a function that can collapse whitespace, using regular expressions, and be used for splitting. \n",
    "\n",
    "Q: What does the regular expression `'\\s+'` match on? \n",
    "\n",
    "A: whitespace \n"
   ]
  },
  {
   "cell_type": "code",
   "execution_count": 28,
   "id": "f0e34516",
   "metadata": {},
   "outputs": [],
   "source": [
    "collapse_whitespace = re.compile(r'\\s+')\n",
    "\n",
    "def tokenize_lyrics(lyric) : \n",
    "    \"\"\"strip and split on whitespace\"\"\"\n",
    "    return([item.lower() for item in collapse_whitespace.split(lyric)])"
   ]
  },
  {
   "cell_type": "code",
   "execution_count": 30,
   "id": "2294c440",
   "metadata": {},
   "outputs": [
    {
     "data": {
      "image/png": "[encoded data removed]",
      "text/plain": [
       "<Figure size 640x480 with 1 Axes>"
      ]
     },
     "metadata": {},
     "output_type": "display_data"
    }
   ],
   "source": [
    "#lyric length comparison chart here. \n",
    "def get_song_lengths(artist_folder, artist_name):\n",
    "    lengths = []\n",
    "    for filename in os.listdir(artist_folder):\n",
    "        file_path = os.path.join(artist_folder, filename)\n",
    "        with open(file_path, \"r\", encoding=\"utf-8\") as f:\n",
    "            lines = f.readlines()\n",
    "            lyrics = \" \".join(lines[1:])  # Skip the title (line 0), use the rest\n",
    "            tokens = lyrics.split()\n",
    "            lengths.append(len(tokens))\n",
    "    return pd.DataFrame({\n",
    "        \"artist\": [artist_name] * len(lengths),\n",
    "        \"length\": lengths\n",
    "    })\n",
    "\n",
    "\n",
    "# song lengths\n",
    "cher_df = get_song_lengths(cher_folder, \"Cher\")\n",
    "robyn_df = get_song_lengths(robyn_folder, \"Robyn\")\n",
    "\n",
    "# combine\n",
    "length_df = pd.concat([cher_df, robyn_df])\n",
    "\n",
    "# plot\n",
    "length_df.groupby('artist')['length'].plot(kind=\"hist\", density=True, alpha=0.5, legend=True)\n",
    "plt.xlabel(\"Song Length (Number of Tokens)\")\n",
    "plt.ylabel(\"Density\")\n",
    "plt.title(\"Distribution of Song Lengths by Artist\")\n",
    "plt.show()\n"
   ]
  }
 ],
 "metadata": {
  "kernelspec": {
   "display_name": "Python 3 (ipykernel)",
   "language": "python",
   "name": "python3"
  },
  "language_info": {
   "codemirror_mode": {
    "name": "ipython",
    "version": 3
   },
   "file_extension": ".py",
   "mimetype": "text/x-python",
   "name": "python",
   "nbconvert_exporter": "python",
   "pygments_lexer": "ipython3",
   "version": "3.11.12"
  },
  "vscode": {
   "interpreter": {
    "hash": "4194326c0413a61705b1c9c478b548c558ca636db13c87cf5df000d7227b8ff4"
   }
  }
 },
 "nbformat": 4,
 "nbformat_minor": 5
}
